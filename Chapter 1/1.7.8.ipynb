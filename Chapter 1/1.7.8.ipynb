{
 "cells": [
  {
   "cell_type": "markdown",
   "metadata": {},
   "source": [
    "# 1.7.8 M-函数编程"
   ]
  },
  {
   "cell_type": "markdown",
   "metadata": {},
   "source": [
    "## 1. M-文件\n",
    "\n",
    "M- 文件的组成部分如下：\n",
    "- 函数定义行\n",
    "- H1 语句\n",
    "- 帮助文本\n",
    "- 函数主题\n",
    "- 命令\n",
    "\n",
    "函数定义行的形式为："
   ]
  },
  {
   "cell_type": "code",
   "execution_count": null,
   "metadata": {},
   "outputs": [],
   "source": [
    "function [outputs] = name(inputs)"
   ]
  },
  {
   "cell_type": "markdown",
   "metadata": {},
   "source": [
    "例如，某个计算两幅图像的求和与求积的函数应该具有如下形式："
   ]
  },
  {
   "cell_type": "code",
   "execution_count": null,
   "metadata": {},
   "outputs": [],
   "source": [
    "function [s, p] = sumprod(f, g)\n",
    "\n",
    "[s, p] = sumprod(f, g);"
   ]
  },
  {
   "cell_type": "markdown",
   "metadata": {},
   "source": [
    "## 6. 数组索引"
   ]
  },
  {
   "cell_type": "code",
   "execution_count": 10,
   "metadata": {},
   "outputs": [
    {
     "name": "stdout",
     "output_type": "stream",
     "text": [
      "\n",
      "V =\n",
      "\n",
      "     1     3     5     7     9\n",
      "\n",
      "\n"
     ]
    }
   ],
   "source": [
    "V = [1 3 5 7 9]"
   ]
  },
  {
   "cell_type": "code",
   "execution_count": 12,
   "metadata": {},
   "outputs": [
    {
     "name": "stdout",
     "output_type": "stream",
     "text": [
      "\n",
      "ans =\n",
      "\n",
      "     3\n",
      "\n",
      "\n"
     ]
    }
   ],
   "source": [
    "V(2)"
   ]
  },
  {
   "cell_type": "code",
   "execution_count": 14,
   "metadata": {},
   "outputs": [
    {
     "name": "stdout",
     "output_type": "stream",
     "text": [
      "\n",
      "W =\n",
      "\n",
      "     1\n",
      "     3\n",
      "     5\n",
      "     7\n",
      "     9\n",
      "\n",
      "\n"
     ]
    }
   ],
   "source": [
    "W = V.'"
   ]
  },
  {
   "cell_type": "code",
   "execution_count": 15,
   "metadata": {},
   "outputs": [
    {
     "name": "stdout",
     "output_type": "stream",
     "text": [
      "\n",
      "ans =\n",
      "\n",
      "     1     3     5\n",
      "\n",
      "\n"
     ]
    }
   ],
   "source": [
    "V(1:3)"
   ]
  },
  {
   "cell_type": "code",
   "execution_count": 16,
   "metadata": {},
   "outputs": [
    {
     "name": "stdout",
     "output_type": "stream",
     "text": [
      "\n",
      "ans =\n",
      "\n",
      "     5     7     9\n",
      "\n",
      "\n"
     ]
    }
   ],
   "source": [
    "V(3:end)"
   ]
  },
  {
   "cell_type": "code",
   "execution_count": 17,
   "metadata": {},
   "outputs": [
    {
     "name": "stdout",
     "output_type": "stream",
     "text": [
      "\n",
      "ans =\n",
      "\n",
      "     1     7     9\n",
      "\n",
      "\n"
     ]
    }
   ],
   "source": [
    "V([1 4 5])"
   ]
  },
  {
   "cell_type": "code",
   "execution_count": 18,
   "metadata": {},
   "outputs": [
    {
     "name": "stdout",
     "output_type": "stream",
     "text": [
      "\n",
      "ans =\n",
      "\n",
      "     1     5     9\n",
      "\n",
      "\n"
     ]
    }
   ],
   "source": [
    "V(1:2:end)"
   ]
  },
  {
   "cell_type": "code",
   "execution_count": 19,
   "metadata": {},
   "outputs": [
    {
     "name": "stdout",
     "output_type": "stream",
     "text": [
      "\n",
      "A =\n",
      "\n",
      "     1     2     3\n",
      "     4     5     6\n",
      "     7     8     9\n",
      "\n",
      "\n"
     ]
    }
   ],
   "source": [
    "A = [1 2 3; 4 5 6; 7 8 9]"
   ]
  },
  {
   "cell_type": "code",
   "execution_count": 20,
   "metadata": {},
   "outputs": [
    {
     "name": "stdout",
     "output_type": "stream",
     "text": [
      "\n",
      "ans =\n",
      "\n",
      "     4     5     6\n",
      "\n",
      "\n"
     ]
    }
   ],
   "source": [
    "A(2, :)"
   ]
  },
  {
   "cell_type": "code",
   "execution_count": 21,
   "metadata": {},
   "outputs": [
    {
     "name": "stdout",
     "output_type": "stream",
     "text": [
      "\n",
      "ans =\n",
      "\n",
      "    45\n",
      "\n",
      "\n"
     ]
    }
   ],
   "source": [
    "sum(A(:))"
   ]
  },
  {
   "cell_type": "code",
   "execution_count": 22,
   "metadata": {},
   "outputs": [
    {
     "name": "stdout",
     "output_type": "stream",
     "text": [
      "\n",
      "D =\n",
      "\n",
      "  3x3 logical 数组\n",
      "\n",
      "   1   0   0\n",
      "   0   0   1\n",
      "   0   0   0\n",
      "\n",
      "\n"
     ]
    }
   ],
   "source": [
    "D = logical([1 0 0; 0 0 1; 0 0 0])"
   ]
  },
  {
   "cell_type": "code",
   "execution_count": 23,
   "metadata": {},
   "outputs": [
    {
     "name": "stdout",
     "output_type": "stream",
     "text": [
      "\n",
      "ans =\n",
      "\n",
      "     1\n",
      "     6\n",
      "\n",
      "\n"
     ]
    }
   ],
   "source": [
    "A(D)"
   ]
  },
  {
   "cell_type": "markdown",
   "metadata": {},
   "source": [
    "## 7. 函数句柄、单元数组与结构"
   ]
  },
  {
   "cell_type": "code",
   "execution_count": 24,
   "metadata": {},
   "outputs": [
    {
     "name": "stdout",
     "output_type": "stream",
     "text": [
      "\n",
      "f =\n",
      "\n",
      "  包含以下值的 function_handle:\n",
      "\n",
      "    @sin\n",
      "\n",
      "\n"
     ]
    }
   ],
   "source": [
    "f = @sin"
   ]
  },
  {
   "cell_type": "code",
   "execution_count": 25,
   "metadata": {},
   "outputs": [
    {
     "name": "stdout",
     "output_type": "stream",
     "text": [
      "\n",
      "ans =\n",
      "\n",
      "    0.7071\n",
      "\n",
      "\n"
     ]
    }
   ],
   "source": [
    "f(pi/4)"
   ]
  },
  {
   "cell_type": "code",
   "execution_count": 26,
   "metadata": {},
   "outputs": [
    {
     "name": "stdout",
     "output_type": "stream",
     "text": [
      "\n",
      "ans =\n",
      "\n",
      "    0.7071\n",
      "\n",
      "\n"
     ]
    }
   ],
   "source": [
    "sin(pi/4)"
   ]
  },
  {
   "cell_type": "code",
   "execution_count": 28,
   "metadata": {},
   "outputs": [
    {
     "name": "stdout",
     "output_type": "stream",
     "text": [
      "\n",
      "g =\n",
      "\n",
      "  包含以下值的 function_handle:\n",
      "\n",
      "    @(x)x.^2\n",
      "\n",
      "\n"
     ]
    }
   ],
   "source": [
    "g = @(x) x.^2"
   ]
  },
  {
   "cell_type": "code",
   "execution_count": 29,
   "metadata": {},
   "outputs": [
    {
     "name": "stdout",
     "output_type": "stream",
     "text": [
      "\n",
      "r =\n",
      "\n",
      "  包含以下值的 function_handle:\n",
      "\n",
      "    @(x,y)sqrt(x.^2+y.^2)\n",
      "\n",
      "\n"
     ]
    }
   ],
   "source": [
    "r = @(x, y) sqrt(x.^2 + y.^2)"
   ]
  },
  {
   "cell_type": "markdown",
   "metadata": {},
   "source": [
    "## 例1.1 向量化展示和函数 meshgird 介绍"
   ]
  },
  {
   "cell_type": "code",
   "execution_count": 2,
   "metadata": {},
   "outputs": [
    {
     "name": "stdout",
     "output_type": "stream",
     "text": [
      "\n",
      "ans =\n",
      "\n",
      "    0.0112\n",
      "\n",
      "\n"
     ]
    }
   ],
   "source": [
    "timeit(@() twodsin1(1, 1/(4*pi), 1/(4*pi), 512, 512))"
   ]
  },
  {
   "cell_type": "code",
   "execution_count": 5,
   "metadata": {},
   "outputs": [
    {
     "name": "stdout",
     "output_type": "stream",
     "text": [
      "\n"
     ]
    },
    {
     "data": {
      "image/png": "[encoded data removed]",
      "text/plain": [
       "<IPython.core.display.Image object>"
      ]
     },
     "metadata": {},
     "output_type": "display_data"
    }
   ],
   "source": [
    "f = twodsin1(1, 1/(4*pi), 1/(4*pi), 512, 512);\n",
    "imshow(f, [ ])"
   ]
  },
  {
   "cell_type": "code",
   "execution_count": 6,
   "metadata": {},
   "outputs": [
    {
     "name": "stdout",
     "output_type": "stream",
     "text": [
      "\n",
      "X =\n",
      "\n",
      "     1     2     3\n",
      "     1     2     3\n",
      "     1     2     3\n",
      "     1     2     3\n",
      "     1     2     3\n",
      "\n",
      "\n",
      "Y =\n",
      "\n",
      "    10    10    10\n",
      "    11    11    11\n",
      "    12    12    12\n",
      "    13    13    13\n",
      "    14    14    14\n",
      "\n",
      "\n"
     ]
    }
   ],
   "source": [
    "[X, Y] = meshgrid(1:3, 10:14)"
   ]
  },
  {
   "cell_type": "code",
   "execution_count": 7,
   "metadata": {},
   "outputs": [
    {
     "name": "stdout",
     "output_type": "stream",
     "text": [
      "\n",
      "Z =\n",
      "\n",
      "    11    12    13\n",
      "    12    13    14\n",
      "    13    14    15\n",
      "    14    15    16\n",
      "    15    16    17\n",
      "\n",
      "\n"
     ]
    }
   ],
   "source": [
    "Z = X + Y"
   ]
  },
  {
   "cell_type": "code",
   "execution_count": 8,
   "metadata": {},
   "outputs": [
    {
     "name": "stdout",
     "output_type": "stream",
     "text": [
      "\n",
      "ans =\n",
      "\n",
      "    0.0037\n",
      "\n",
      "\n"
     ]
    }
   ],
   "source": [
    "timeit(@() twodsin2(1, 1/(4*pi), 1/(4*pi), 512, 512))"
   ]
  }
 ],
 "metadata": {
  "kernelspec": {
   "display_name": "Matlab",
   "language": "matlab",
   "name": "matlab"
  },
  "language_info": {
   "codemirror_mode": "octave",
   "file_extension": ".m",
   "help_links": [
    {
     "text": "MetaKernel Magics",
     "url": "https://metakernel.readthedocs.io/en/latest/source/README.html"
    }
   ],
   "mimetype": "text/x-octave",
   "name": "matlab",
   "version": "0.16.7"
  }
 },
 "nbformat": 4,
 "nbformat_minor": 2
}
