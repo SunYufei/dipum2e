{
 "cells": [
  {
   "cell_type": "markdown",
   "metadata": {},
   "source": [
    "# 1.7.6 图像的输入/输出和显示"
   ]
  },
  {
   "cell_type": "markdown",
   "metadata": {},
   "source": [
    "## imread 函数将图像读入 MATLAB 环境\n",
    "#### ***imread*** 的基本语法"
   ]
  },
  {
   "cell_type": "code",
   "execution_count": null,
   "metadata": {},
   "outputs": [],
   "source": [
    "imread('filename')"
   ]
  },
  {
   "cell_type": "markdown",
   "metadata": {},
   "source": [
    "#### 语句结尾的分号用于禁止在控制台输出"
   ]
  },
  {
   "cell_type": "code",
   "execution_count": 1,
   "metadata": {},
   "outputs": [
    {
     "name": "stdout",
     "output_type": "stream",
     "text": [
      "\n",
      "ans =\n",
      "\n",
      "   512   512\n",
      "\n",
      "\n"
     ]
    }
   ],
   "source": [
    "f = imread('lady.tif');\n",
    "size(f)"
   ]
  },
  {
   "cell_type": "markdown",
   "metadata": {},
   "source": [
    "## imshow 函数用于显示图像\n",
    "#### ***imshow*** 的基本语法"
   ]
  },
  {
   "cell_type": "code",
   "execution_count": null,
   "metadata": {},
   "outputs": [],
   "source": [
    "imshow(f)"
   ]
  },
  {
   "cell_type": "code",
   "execution_count": null,
   "metadata": {},
   "outputs": [],
   "source": [
    "f = imread('lady.tif');\n",
    "imshow(f)"
   ]
  },
  {
   "cell_type": "markdown",
   "metadata": {},
   "source": [
    "## imshow 多幅图像显示\n",
    "#### 不使用 figure 函数，新的图像会覆盖掉原有的图像"
   ]
  },
  {
   "cell_type": "code",
   "execution_count": null,
   "metadata": {},
   "outputs": [],
   "source": [
    "f = imread('lady.tif');\n",
    "imshow(f)\n",
    "\n",
    "g = imread('moon.tif');\n",
    "figure, imshow(g)\n",
    "% imshow(g)"
   ]
  },
  {
   "cell_type": "markdown",
   "metadata": {},
   "source": [
    "## imwrite 函数将图像写入当前目录\n",
    "#### ***imwrite*** 基本语法"
   ]
  },
  {
   "cell_type": "code",
   "execution_count": null,
   "metadata": {},
   "outputs": [],
   "source": [
    "imwrite(f, 'filename')"
   ]
  },
  {
   "cell_type": "markdown",
   "metadata": {},
   "source": [
    "#### 一种更常用但**仅适用于 JPEG 图像**的 imwrite 语法\n",
    "\n",
    "$q\\in[0,100]$，$q$ 越小，图像的退化越严重"
   ]
  },
  {
   "cell_type": "code",
   "execution_count": null,
   "metadata": {},
   "outputs": [],
   "source": [
    "imwrite(f, 'filename.jpg', 'quality', q)"
   ]
  },
  {
   "cell_type": "markdown",
   "metadata": {},
   "source": [
    "#### **仅适用于 TIFF 图像** 的 imwrite 语法"
   ]
  },
  {
   "cell_type": "code",
   "execution_count": null,
   "metadata": {},
   "outputs": [],
   "source": [
    "imwritex(g, 'filename.tif', 'compression', 'parameter', ..., 'resolution', [colres rowres])"
   ]
  },
  {
   "cell_type": "markdown",
   "metadata": {},
   "source": [
    "#### 其中，`parameter` 可以采用下列取值\n",
    "- 'none' 没有压缩\n",
    "- 'packbits' 默认的非二值图像\n",
    "- 'lwz'\n",
    "- 'deflate'\n",
    "- 'jpeg'\n",
    "- 'ccitt' 仅针对二值图像，为默认值\n",
    "- 'fax3' 仅针对二值图像\n",
    "- 'fax4'\n",
    "\n",
    "#### 1$\\times$2数组 [colres rowres] 包含两个整数，以每单位点数给出列分辨率和行分辨率，默认为 [72 72]"
   ]
  }
 ],
 "metadata": {
  "kernelspec": {
   "display_name": "Matlab",
   "language": "matlab",
   "name": "matlab"
  },
  "language_info": {
   "codemirror_mode": "octave",
   "file_extension": ".m",
   "help_links": [
    {
     "text": "MetaKernel Magics",
     "url": "https://metakernel.readthedocs.io/en/latest/source/README.html"
    }
   ],
   "mimetype": "text/x-octave",
   "name": "matlab",
   "version": "0.16.7"
  }
 },
 "nbformat": 4,
 "nbformat_minor": 2
}
