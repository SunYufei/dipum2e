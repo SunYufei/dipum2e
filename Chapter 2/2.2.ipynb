{
 "cells": [
  {
   "cell_type": "markdown",
   "metadata": {},
   "source": [
    "# 2.2 灰度变换函数"
   ]
  },
  {
   "cell_type": "markdown",
   "metadata": {},
   "source": [
    "## 2.2.1 imadjust 和 stretchlim 函数"
   ]
  },
  {
   "cell_type": "markdown",
   "metadata": {},
   "source": [
    "#### 负片图像"
   ]
  },
  {
   "cell_type": "code",
   "execution_count": null,
   "metadata": {},
   "outputs": [],
   "source": [
    "f = imread('Fig0203(a).tif');\n",
    "g1 = imadjust(f, [0 1], [1 0]);\n",
    "% g1 = imcomplement(f);\n",
    "\n",
    "subplot(121)\n",
    "imshow(f)\n",
    "\n",
    "subplot(122)\n",
    "imshow(g1)"
   ]
  },
  {
   "cell_type": "markdown",
   "metadata": {},
   "source": [
    "### 亮度扩展至 [0.5, 0.75]"
   ]
  },
  {
   "cell_type": "code",
   "execution_count": null,
   "metadata": {},
   "outputs": [],
   "source": [
    "g2 = imadjust(f, [0.5 0.75], [0 1]);\n",
    "\n",
    "subplot(121)\n",
    "imshow(f)\n",
    "\n",
    "subplot(122)\n",
    "imshow(g2)"
   ]
  },
  {
   "cell_type": "markdown",
   "metadata": {},
   "source": [
    "### gamma = 2 增强"
   ]
  },
  {
   "cell_type": "code",
   "execution_count": null,
   "metadata": {},
   "outputs": [],
   "source": [
    "g3 = imadjust(f, [], [], 2);\n",
    "\n",
    "subplot(121)\n",
    "imshow(f)\n",
    "\n",
    "subplot(122)\n",
    "imshow(g3)"
   ]
  },
  {
   "cell_type": "code",
   "execution_count": null,
   "metadata": {},
   "outputs": [],
   "source": [
    "g4 = imadjust(f, stretchlim(f), []);\n",
    "\n",
    "subplot(1, 2, 1)\n",
    "imshow(f)\n",
    "\n",
    "subplot(1, 2, 2)\n",
    "imshow(g4)"
   ]
  },
  {
   "cell_type": "code",
   "execution_count": null,
   "metadata": {},
   "outputs": [],
   "source": [
    "g5 = imadjust(f, stretchlim(f), [1 0]);\n",
    "\n",
    "subplot(121)\n",
    "imshow(f)\n",
    "\n",
    "subplot(122)\n",
    "imshow(g5)"
   ]
  },
  {
   "cell_type": "markdown",
   "metadata": {},
   "source": [
    "## 2.2.2 对数及对比度扩展变换\n",
    "### 例 2.2 利用对数变换减小动态范围"
   ]
  },
  {
   "cell_type": "code",
   "execution_count": null,
   "metadata": {},
   "outputs": [],
   "source": [
    "f = imread('Fig0205(a).tif');\n",
    "g = im2uint8(mat2gray(log(1 + double(f))));\n",
    "\n",
    "subplot(1, 2, 1)\n",
    "imshow(f)\n",
    "\n",
    "subplot(1, 2, 2)\n",
    "imshow(g)"
   ]
  },
  {
   "cell_type": "markdown",
   "metadata": {},
   "source": [
    "## 2.2.4 针对灰度变换的某些公用 M-函数\n",
    "### 例 2.3 针对 intrans 函数的说明"
   ]
  },
  {
   "cell_type": "code",
   "execution_count": null,
   "metadata": {},
   "outputs": [],
   "source": [
    "g = intrans(f, 'stretch', mean2(tofloat(f)), 0.9);\n",
    "\n",
    "subplot(121)\n",
    "imshow(f)\n",
    "\n",
    "subplot(122)\n",
    "imshow(g)"
   ]
  }
 ],
 "metadata": {
  "kernelspec": {
   "display_name": "Matlab",
   "language": "matlab",
   "name": "matlab"
  },
  "language_info": {
   "codemirror_mode": "octave",
   "file_extension": ".m",
   "help_links": [
    {
     "text": "MetaKernel Magics",
     "url": "https://metakernel.readthedocs.io/en/latest/source/README.html"
    }
   ],
   "mimetype": "text/x-octave",
   "name": "matlab",
   "version": "0.16.7"
  }
 },
 "nbformat": 4,
 "nbformat_minor": 2
}
