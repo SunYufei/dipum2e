{
 "cells": [
  {
   "cell_type": "markdown",
   "metadata": {},
   "source": [
    "# 8.2"
   ]
  },
  {
   "cell_type": "code",
   "execution_count": 1,
   "metadata": {},
   "outputs": [
    {
     "name": "stdout",
     "output_type": "stream",
     "text": [
      "\n",
      "f =\n",
      "\n",
      "   119   123   168   119\n",
      "   123   119   168   168\n",
      "   119   119   107   119\n",
      "   107   107   119   119\n",
      "\n",
      "\n"
     ]
    }
   ],
   "source": [
    "f = [119 123 168 119; 123 119 168 168];\n",
    "f = [f; 119 119 107 119; 107 107 119 119]"
   ]
  },
  {
   "cell_type": "code",
   "execution_count": 2,
   "metadata": {},
   "outputs": [
    {
     "name": "stdout",
     "output_type": "stream",
     "text": [
      "\n",
      "p =\n",
      "\n",
      "    0.1875    0.5000    0.1250         0         0         0         0    0.1875\n",
      "\n",
      "\n"
     ]
    }
   ],
   "source": [
    "p = hist(f(:), 8);\n",
    "p = p / sum(p)"
   ]
  },
  {
   "cell_type": "code",
   "execution_count": 4,
   "metadata": {},
   "outputs": [
    {
     "name": "stdout",
     "output_type": "stream",
     "text": [
      "\n",
      "h =\n",
      "\n",
      "    1.7806\n",
      "\n",
      "\n"
     ]
    }
   ],
   "source": [
    "h = ntrop(f)"
   ]
  },
  {
   "cell_type": "markdown",
   "metadata": {},
   "source": [
    "## 8.2.1 霍夫曼码"
   ]
  },
  {
   "cell_type": "code",
   "execution_count": 5,
   "metadata": {},
   "outputs": [
    {
     "name": "stdout",
     "output_type": "stream",
     "text": [
      "\n",
      "c =\n",
      "\n",
      "  4x1 cell 数组\n",
      "\n",
      "    {'011'}\n",
      "    {'1'  }\n",
      "    {'010'}\n",
      "    {'00' }\n",
      "\n",
      "\n"
     ]
    }
   ],
   "source": [
    "p = [0.1875 0.5 0.125 0.1875];\n",
    "c = huffman(p)"
   ]
  },
  {
   "cell_type": "markdown",
   "metadata": {},
   "source": [
    "## 8.2.2 霍夫曼编码\n"
   ]
  },
  {
   "cell_type": "code",
   "execution_count": 6,
   "metadata": {},
   "outputs": [
    {
     "name": "stdout",
     "output_type": "stream",
     "text": [
      "\n",
      "f2 =\n",
      "\n",
      "  4x4 uint8 矩阵\n",
      "\n",
      "   2   3   4   2\n",
      "   3   2   4   4\n",
      "   2   2   1   2\n",
      "   1   1   2   2\n",
      "\n",
      "\n"
     ]
    }
   ],
   "source": [
    "f2 = uint8([2 3 4 2; 3 2 4 4; 2 2 1 2; 1 1 2 2])"
   ]
  },
  {
   "cell_type": "code",
   "execution_count": 7,
   "metadata": {},
   "outputs": [
    {
     "name": "stdout",
     "output_type": "stream",
     "text": [
      "  Name      Size            Bytes  Class    Attributes\n",
      "\n",
      "  f2        4x4                16  uint8              \n",
      "\n",
      "\n"
     ]
    }
   ],
   "source": [
    "whos('f2')"
   ]
  },
  {
   "cell_type": "code",
   "execution_count": 8,
   "metadata": {},
   "outputs": [
    {
     "name": "stdout",
     "output_type": "stream",
     "text": [
      "\n",
      "c =\n",
      "\n",
      "  4x1 cell 数组\n",
      "\n",
      "    {'011'}\n",
      "    {'1'  }\n",
      "    {'010'}\n",
      "    {'00' }\n",
      "\n",
      "\n"
     ]
    }
   ],
   "source": [
    "c = huffman(hist(double(f2(:)), 4))"
   ]
  },
  {
   "cell_type": "code",
   "execution_count": 12,
   "metadata": {},
   "outputs": [
    {
     "name": "stdout",
     "output_type": "stream",
     "text": [
      "\n",
      "h1f2 =\n",
      "\n",
      "  1x16 cell 数组\n",
      "\n",
      "  1 至 13 列\n",
      "\n",
      "    {'1'}    {'010'}    {'1'}    {'011'}    {'010'}    {'1'}    {'1'}    {'011'}    {'00'}    {'00'}    {'011'}    {'1'}    {'1'}\n",
      "\n",
      "  14 至 16 列\n",
      "\n",
      "    {'00'}    {'1'}    {'1'}\n",
      "\n",
      "\n"
     ]
    }
   ],
   "source": [
    "h1f2 = c(f2(:))'"
   ]
  },
  {
   "cell_type": "code",
   "execution_count": 13,
   "metadata": {},
   "outputs": [
    {
     "name": "stdout",
     "output_type": "stream",
     "text": [
      "  Name      Size            Bytes  Class    Attributes\n",
      "\n",
      "  h1f2      1x16             1850  cell               \n",
      "\n",
      "\n"
     ]
    }
   ],
   "source": [
    "whos('h1f2')"
   ]
  },
  {
   "cell_type": "code",
   "execution_count": 15,
   "metadata": {},
   "outputs": [
    {
     "name": "stdout",
     "output_type": "stream",
     "text": [
      "\n",
      "h2f2 =\n",
      "\n",
      "  3x16 char 数组\n",
      "\n",
      "    '1010011000011011'\n",
      "    ' 1 11  1001  0  '\n",
      "    ' 0 10  1  1     '\n",
      "\n",
      "\n"
     ]
    }
   ],
   "source": [
    "h2f2 = char(h1f2)'"
   ]
  },
  {
   "cell_type": "code",
   "execution_count": 16,
   "metadata": {},
   "outputs": [
    {
     "name": "stdout",
     "output_type": "stream",
     "text": [
      "  Name      Size            Bytes  Class    Attributes\n",
      "\n",
      "  h2f2      3x16               96  char               \n",
      "\n",
      "\n"
     ]
    }
   ],
   "source": [
    "whos('h2f2')"
   ]
  },
  {
   "cell_type": "code",
   "execution_count": 17,
   "metadata": {},
   "outputs": [
    {
     "name": "stdout",
     "output_type": "stream",
     "text": [
      "  Name       Size            Bytes  Class    Attributes\n",
      "\n",
      "  h2f2      29x1                58  char               \n",
      "\n",
      "\n"
     ]
    }
   ],
   "source": [
    "h2f2 = h2f2(:);\n",
    "h2f2(h2f2 == ' ') = [];\n",
    "whos('h2f2')"
   ]
  },
  {
   "cell_type": "code",
   "execution_count": 19,
   "metadata": {},
   "outputs": [
    {
     "name": "stdout",
     "output_type": "stream",
     "text": [
      "\n",
      "h3f2 = \n",
      "\n",
      "  包含以下字段的 struct:\n",
      "\n",
      "    size: [4 4]\n",
      "     min: 32769\n",
      "    hist: [3 8 2 3]\n",
      "    code: [43867 1944]\n",
      "\n",
      "\n"
     ]
    }
   ],
   "source": [
    "h3f2 = mat2huff(f2)"
   ]
  },
  {
   "cell_type": "code",
   "execution_count": 20,
   "metadata": {},
   "outputs": [
    {
     "name": "stdout",
     "output_type": "stream",
     "text": [
      "  Name      Size            Bytes  Class     Attributes\n",
      "\n",
      "  h3f2      1x1               726  struct              \n",
      "\n",
      "\n"
     ]
    }
   ],
   "source": [
    "whos('h3f2')"
   ]
  },
  {
   "cell_type": "code",
   "execution_count": 22,
   "metadata": {},
   "outputs": [
    {
     "name": "stdout",
     "output_type": "stream",
     "text": [
      "  Name       Size            Bytes  Class     Attributes\n",
      "\n",
      "  hcode      1x2                 4  uint16              \n",
      "\n",
      "\n"
     ]
    }
   ],
   "source": [
    "hcode = h3f2.code;\n",
    "whos('hcode')"
   ]
  },
  {
   "cell_type": "code",
   "execution_count": 23,
   "metadata": {},
   "outputs": [
    {
     "name": "stdout",
     "output_type": "stream",
     "text": [
      "\n",
      "ans =\n",
      "\n",
      "  2x16 char 数组\n",
      "\n",
      "    '1010101101011011'\n",
      "    '0000011110011000'\n",
      "\n",
      "\n"
     ]
    }
   ],
   "source": [
    "dec2bin(double(hcode))"
   ]
  },
  {
   "cell_type": "markdown",
   "metadata": {},
   "source": [
    "### Example 8.3"
   ]
  },
  {
   "cell_type": "code",
   "execution_count": 30,
   "metadata": {},
   "outputs": [
    {
     "name": "stdout",
     "output_type": "stream",
     "text": [
      "\n",
      "cr1 =\n",
      "\n",
      "    1.2191\n",
      "\n",
      "\n"
     ]
    }
   ],
   "source": [
    "f = imread('Tracy.tif');\n",
    "c = mat2huff(f);\n",
    "cr1 = imratio(f, c)"
   ]
  },
  {
   "cell_type": "code",
   "execution_count": 31,
   "metadata": {},
   "outputs": [
    {
     "name": "stdout",
     "output_type": "stream",
     "text": [
      "\n",
      "cr2 =\n",
      "\n",
      "    1.2386\n",
      "\n",
      "\n"
     ]
    }
   ],
   "source": [
    "save SqueezeTracy c;\n",
    "cr2 = imratio('Tracy.tif', 'SqueezeTracy.mat')"
   ]
  },
  {
   "cell_type": "markdown",
   "metadata": {},
   "source": [
    "## 8.2.3"
   ]
  },
  {
   "cell_type": "code",
   "execution_count": 29,
   "metadata": {},
   "outputs": [
    {
     "name": "stdout",
     "output_type": "stream",
     "text": [
      "\n",
      "rmse =\n",
      "\n",
      "     0\n",
      "\n",
      "\n"
     ]
    }
   ],
   "source": [
    "load SqueezeTracy;\n",
    "g = huff2mat(c);\n",
    "f = imread('Tracy.tif');\n",
    "rmse = compare(f, g)"
   ]
  }
 ],
 "metadata": {
  "kernelspec": {
   "display_name": "Matlab",
   "language": "matlab",
   "name": "matlab"
  },
  "language_info": {
   "codemirror_mode": "octave",
   "file_extension": ".m",
   "help_links": [
    {
     "text": "MetaKernel Magics",
     "url": "https://metakernel.readthedocs.io/en/latest/source/README.html"
    }
   ],
   "mimetype": "text/x-octave",
   "name": "matlab",
   "version": "0.16.7"
  }
 },
 "nbformat": 4,
 "nbformat_minor": 2
}
